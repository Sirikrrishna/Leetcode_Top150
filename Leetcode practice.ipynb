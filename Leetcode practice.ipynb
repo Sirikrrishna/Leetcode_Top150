{
 "cells": [
  {
   "cell_type": "markdown",
   "id": "95da8bda",
   "metadata": {},
   "source": [
    "### Leet code practice"
   ]
  },
  {
   "cell_type": "markdown",
   "id": "b5715c0f",
   "metadata": {},
   "source": [
    "#### Merging of sorted arrays"
   ]
  },
  {
   "cell_type": "code",
   "execution_count": null,
   "id": "87c2077e",
   "metadata": {},
   "outputs": [],
   "source": [
    "class Solution:\n",
    "    def merge(self, nums1: List[int], m: int, nums2: List[int], n: int) -> None:\n",
    "        \"\"\"\n",
    "        Do not return anything, modify nums1 in-place instead.\n",
    "        \"\"\"\n",
    "        for i in range(m,m+n):\n",
    "            nums1[i] = nums2[i-m]\n",
    "        nums1.sort()"
   ]
  }
 ],
 "metadata": {
  "kernelspec": {
   "display_name": "Python 3 (ipykernel)",
   "language": "python",
   "name": "python3"
  },
  "language_info": {
   "codemirror_mode": {
    "name": "ipython",
    "version": 3
   },
   "file_extension": ".py",
   "mimetype": "text/x-python",
   "name": "python",
   "nbconvert_exporter": "python",
   "pygments_lexer": "ipython3",
   "version": "3.11.4"
  }
 },
 "nbformat": 4,
 "nbformat_minor": 5
}
